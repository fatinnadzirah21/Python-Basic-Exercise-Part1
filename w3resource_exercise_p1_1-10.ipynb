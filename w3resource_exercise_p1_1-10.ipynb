{
 "cells": [
  {
   "cell_type": "code",
   "execution_count": 3,
   "metadata": {},
   "outputs": [
    {
     "name": "stdout",
     "output_type": "stream",
     "text": [
      "Twinkle, twinkle, little star,\n",
      "\tHow I wonder what you are!\n",
      "\t\tUp above the world so high,\n",
      "\t\tLike a diamond in the sky.\n",
      "Twinkle, twinkle, little star,\n",
      "\tHow I wonder what you are\n"
     ]
    }
   ],
   "source": [
    "# 1 print function\n",
    "print(\"Twinkle, twinkle, little star,\\n\\tHow I wonder what you are!\\n\\t\\tUp above the world so high,\\n\\t\\tLike a diamond in the sky.\\nTwinkle, twinkle, little star,\\n\\tHow I wonder what you are\")"
   ]
  },
  {
   "cell_type": "code",
   "execution_count": 6,
   "metadata": {},
   "outputs": [
    {
     "name": "stdout",
     "output_type": "stream",
     "text": [
      "Python version:\n",
      "3.11.6 (tags/v3.11.6:8b6ee5b, Oct  2 2023, 14:57:12) [MSC v.1935 64 bit (AMD64)]\n",
      "Version info:\n",
      "sys.version_info(major=3, minor=11, micro=6, releaselevel='final', serial=0)\n"
     ]
    }
   ],
   "source": [
    "# 2 find out python version\n",
    "import sys\n",
    "print(\"Python version:\")\n",
    "print(sys.version)\n",
    "print(\"Version info:\")\n",
    "print(sys.version_info)"
   ]
  },
  {
   "cell_type": "code",
   "execution_count": 13,
   "metadata": {},
   "outputs": [
    {
     "name": "stdout",
     "output_type": "stream",
     "text": [
      "Current date and time:\n",
      "2023-12-29 13:10:53.976415\n",
      "Current date: 29-12-2023\n",
      "Current time: 13: 10: 53\n"
     ]
    }
   ],
   "source": [
    "# 3 display current date and time\n",
    "import datetime\n",
    "now = datetime.datetime.now()\n",
    "print(\"Current date and time:\")\n",
    "print(now)\n",
    "print(\"Current date: \" + now.strftime(\"%d-%m-%Y\"))\n",
    "print(\"Current time: \" + now.strftime(\"%H: %M: %S\"))\n",
    "# print(\"Current date and time: \" + now) -- cannot conc str and datetime"
   ]
  },
  {
   "cell_type": "code",
   "execution_count": 3,
   "metadata": {},
   "outputs": [
    {
     "name": "stdout",
     "output_type": "stream",
     "text": [
      "The area of the circle with radius 1.1 is: 3.8013271108436504\n"
     ]
    }
   ],
   "source": [
    "# 4 calculate area of circle based on r entered by user\n",
    "from math import pi\n",
    "r = float(input(\"Input the radius of circle: \"))\n",
    "area = pi*r**2\n",
    "print(\"The area of the circle with radius \" + str(r) + \" is: \" + str(area))"
   ]
  },
  {
   "cell_type": "code",
   "execution_count": 6,
   "metadata": {},
   "outputs": [
    {
     "name": "stdout",
     "output_type": "stream",
     "text": [
      "Inserted first name: Sheng\n",
      "Inserted last name: Gu\n",
      "Your name is Gu Sheng\n"
     ]
    }
   ],
   "source": [
    "# 5 accepts user's first and last name and prints them in reverse order with a space between them\n",
    "first_name = input(\"Insert your first name: \")\n",
    "print(\"Inserted first name: \" + first_name)\n",
    "last_name = (input(\"Insert your last name: \"))\n",
    "print(\"Inserted last name: \" + last_name)\n",
    "print(\"Your name is \" + last_name + \" \" + first_name)"
   ]
  },
  {
   "cell_type": "code",
   "execution_count": 9,
   "metadata": {},
   "outputs": [
    {
     "name": "stdout",
     "output_type": "stream",
     "text": [
      "List:  ['1', '2', '3', '4', '5']\n",
      "Tuple:  ('1', '2', '3', '4', '5')\n"
     ]
    }
   ],
   "source": [
    "# 6 accepts sequence of numbers from user and generates a list and a tuple from those numbers\n",
    "numbers = input(\"Insert a list of numbers separated by commas: \")\n",
    "list = numbers.split(\",\")\n",
    "print(\"List: \", list)\n",
    "tuple = tuple(list)\n",
    "print(\"Tuple: \", tuple)"
   ]
  },
  {
   "cell_type": "code",
   "execution_count": 28,
   "metadata": {},
   "outputs": [
    {
     "name": "stdout",
     "output_type": "stream",
     "text": [
      "The extension of the file is 'java'\n"
     ]
    }
   ],
   "source": [
    "# 7 accepts filename from user and prints the extension of the fike\n",
    "# filename = input(\"Insert the filename: \")\n",
    "filename = \"abc.java\"\n",
    "extension = filename.split(\".\") # split by . and become a list\n",
    "print(\"The extension of the file is \" + repr(extension[-1]))"
   ]
  },
  {
   "cell_type": "code",
   "execution_count": 13,
   "metadata": {},
   "outputs": [
    {
     "name": "stdout",
     "output_type": "stream",
     "text": [
      "Full colour list:  ['Red', 'White', 'Blue', 'Black', 'Green']\n",
      "First and last colours in the list: Red, Green\n"
     ]
    }
   ],
   "source": [
    "# 8 display the first and last colours from the following list\n",
    "colour_list = [\"Red\", \"White\", \"Blue\", \"Black\", \"Green\"]\n",
    "print(\"Full colour list: \", colour_list)\n",
    "print(\"First and last colours in the list: %s, %s\" % (colour_list[0], colour_list[-1]))\n",
    "# %s is to conc into str"
   ]
  },
  {
   "cell_type": "code",
   "execution_count": 16,
   "metadata": {},
   "outputs": [
    {
     "name": "stdout",
     "output_type": "stream",
     "text": [
      "The exam date is: 5/10/2023\n"
     ]
    }
   ],
   "source": [
    "# 9 extract date from exam_st_date\n",
    "exam_st_date = (5, 10, 2023) # a tuple\n",
    "print(\"The exam date is: %i/%i/%i\" % exam_st_date)\n",
    "# %i is to conc into int"
   ]
  },
  {
   "cell_type": "code",
   "execution_count": 25,
   "metadata": {},
   "outputs": [
    {
     "name": "stdout",
     "output_type": "stream",
     "text": [
      "n is:  5\n",
      "The total of n+nn+nnn is: \n",
      "615\n"
     ]
    }
   ],
   "source": [
    "# 10 accepts int (n) and computes the value of n+nn+nnn\n",
    "n = int(input(\"Insert any number as n: \"))\n",
    "print(\"n is: \", n)\n",
    "n2 = int(\"%s%s\" % (n,n))\n",
    "n3 = int(\"%s%s%s\" % (n,n,n))\n",
    "# i2 = int(\"%i%i\" % (n,n))\n",
    "# i3 = int(\"%i%i%i\" % (n,n,n))\n",
    "# print(n2)\n",
    "# print(i2,i3)\n",
    "print(\"The total of n+nn+nnn is: \", )\n",
    "print(n+n2+n3)\n",
    "# print(n+i2+i3)"
   ]
  }
 ],
 "metadata": {
  "kernelspec": {
   "display_name": ".venv",
   "language": "python",
   "name": "python3"
  },
  "language_info": {
   "codemirror_mode": {
    "name": "ipython",
    "version": 3
   },
   "file_extension": ".py",
   "mimetype": "text/x-python",
   "name": "python",
   "nbconvert_exporter": "python",
   "pygments_lexer": "ipython3",
   "version": "3.11.6"
  }
 },
 "nbformat": 4,
 "nbformat_minor": 2
}
