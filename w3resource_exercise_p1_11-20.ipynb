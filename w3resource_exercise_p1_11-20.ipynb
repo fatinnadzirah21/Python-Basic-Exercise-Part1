{
 "cells": [
  {
   "cell_type": "code",
   "execution_count": 2,
   "metadata": {},
   "outputs": [
    {
     "name": "stdout",
     "output_type": "stream",
     "text": [
      "Return the absolute value of the argument.\n",
      "Return the canonical string representation of the object.\n",
      "\n",
      "For many object types, including most builtins, eval(repr(obj)) == obj.\n"
     ]
    }
   ],
   "source": [
    "# 11 print the documents of python built-in function(s)\n",
    "print(abs.__doc__)\n",
    "print(repr.__doc__)"
   ]
  },
  {
   "cell_type": "code",
   "execution_count": 6,
   "metadata": {},
   "outputs": [
    {
     "name": "stdout",
     "output_type": "stream",
     "text": [
      "   December 2023\n",
      "Mo Tu We Th Fr Sa Su\n",
      "             1  2  3\n",
      " 4  5  6  7  8  9 10\n",
      "11 12 13 14 15 16 17\n",
      "18 19 20 21 22 23 24\n",
      "25 26 27 28 29 30 31\n",
      "\n"
     ]
    }
   ],
   "source": [
    "# 12 print the calendar for a given month and year\n",
    "import calendar\n",
    "y = int(input(\"Insert the year: \"))\n",
    "m = int(input(\"Insert the month: \"))\n",
    "print(calendar.month(y, m))"
   ]
  },
  {
   "cell_type": "code",
   "execution_count": 12,
   "metadata": {},
   "outputs": [
    {
     "name": "stdout",
     "output_type": "stream",
     "text": [
      "\n",
      "      \"Love Me Love My Voice\" is a Chinese drama \n",
      "      started airing on December 2023,\n",
      "      an adaptation from a novel by Mo Bao Fei Bao\n",
      "      titled \"Really, Really Miss You\".\n",
      "      It starred Tan Jianci as Mo Qingcheng or Qiang Qingci \n",
      "      and Zhou Ye as Gu Sheng or Shengshengman.\n",
      "      Other famous works by Mo Bao Fei Bao that has been made\n",
      "      into drama adaptations  included \"One and Only\", \n",
      "      \"Forever and Ever\" and \"Road Home\".\n",
      "\n"
     ]
    }
   ],
   "source": [
    "# 13 print multi-line str or heredoc str\n",
    "print('''\n",
    "      \"Love Me Love My Voice\" is a Chinese drama \n",
    "      started airing on December 2023,\n",
    "      an adaptation from a novel by Mo Bao Fei Bao\n",
    "      titled \"Really, Really Miss You\".\n",
    "      It starred Tan Jianci as Mo Qingcheng or Qiang Qingci \n",
    "      and Zhou Ye as Gu Sheng or Shengshengman.\n",
    "      Other famous works by Mo Bao Fei Bao that has been made\n",
    "      into drama adaptations  included \"One and Only\", \n",
    "      \"Forever and Ever\" and \"Road Home\".\n",
    "''')"
   ]
  },
  {
   "cell_type": "code",
   "execution_count": 21,
   "metadata": {},
   "outputs": [
    {
     "name": "stdout",
     "output_type": "stream",
     "text": [
      "Start date is  2023-10-10\n",
      "Last date is  2023-12-02\n",
      "The number of days between the two dates 53 days.\n"
     ]
    }
   ],
   "source": [
    "# 14 calculate the number of days between 2 dates\n",
    "from datetime import date\n",
    "start_date = date(2023,10,10)\n",
    "last_date = date(2023,12,2)\n",
    "delta = last_date - start_date\n",
    "print(\"Start date is \",start_date)\n",
    "print(\"Last date is \",last_date)\n",
    "print(\"The number of days between the two dates \"+ str(delta.days) + \" days.\")"
   ]
  },
  {
   "cell_type": "code",
   "execution_count": 22,
   "metadata": {},
   "outputs": [
    {
     "name": "stdout",
     "output_type": "stream",
     "text": [
      "904.7786842338603\n"
     ]
    }
   ],
   "source": [
    "# 15 calculate the volume of a sphere with r of 6\n",
    "from math import pi\n",
    "r = 6\n",
    "V_sphere = 4/3*pi*r**3\n",
    "print(V_sphere)"
   ]
  },
  {
   "cell_type": "code",
   "execution_count": 25,
   "metadata": {},
   "outputs": [
    {
     "name": "stdout",
     "output_type": "stream",
     "text": [
      "20\n",
      "10\n"
     ]
    }
   ],
   "source": [
    "# 16 calculate the difference between a given number and 17\n",
    "# if given number > 17, return twice the absolute difference\n",
    "def diff(n):\n",
    "    if n<=17:\n",
    "        return 17 - n\n",
    "    else:\n",
    "        return (n-17)*2\n",
    "    \n",
    "print(diff(27))\n",
    "print(diff(7))"
   ]
  },
  {
   "cell_type": "code",
   "execution_count": 28,
   "metadata": {},
   "outputs": [
    {
     "name": "stdout",
     "output_type": "stream",
     "text": [
      "True\n",
      "False\n"
     ]
    }
   ],
   "source": [
    "# 17 test if a number between 1000 and 2000 is <=100\n",
    "def diff(n):\n",
    "    return ((abs(1000-n)<=100) or (abs(2000-n)<=100))\n",
    "\n",
    "print(diff(1000)) # true for the first argument\n",
    "print(diff(2200)) # false for both arguments"
   ]
  },
  {
   "cell_type": "code",
   "execution_count": 29,
   "metadata": {},
   "outputs": [
    {
     "name": "stdout",
     "output_type": "stream",
     "text": [
      "6\n",
      "18\n"
     ]
    }
   ],
   "source": [
    "# 18 calculate the sum of 3 given numbers\n",
    "# if the values are equal, return 3 times their sum\n",
    "def sum_values(a, b, c):\n",
    "    sum = a + b + c\n",
    "    if a == b == c:\n",
    "        sum = sum*3\n",
    "    return sum\n",
    "\n",
    "print(sum_values(1, 2, 3))\n",
    "print(sum_values(2, 2, 2))"
   ]
  },
  {
   "cell_type": "code",
   "execution_count": 33,
   "metadata": {},
   "outputs": [
    {
     "name": "stdout",
     "output_type": "stream",
     "text": [
      "To.Love\n",
      "To.ShengSheng\n",
      "To.V\n"
     ]
    }
   ],
   "source": [
    "# 19 generate new str from a given str where \"To.\" is added to the front\n",
    "# return the str unchanged if the given str already begins with \"To.\"\n",
    "def new_str(text):\n",
    "    if text[:3] == \"To.\":\n",
    "        return text\n",
    "    else:\n",
    "        return \"To.\" + text\n",
    "    \n",
    "print(new_str(\"To.Love\"))\n",
    "print(new_str(\"ShengSheng\"))\n",
    "print(new_str(\"V\"))"
   ]
  },
  {
   "cell_type": "code",
   "execution_count": 34,
   "metadata": {},
   "outputs": [
    {
     "name": "stdout",
     "output_type": "stream",
     "text": [
      "abcabc\n",
      "abcabcabc\n"
     ]
    }
   ],
   "source": [
    "# 20 return a str that is n (non-negative int) copies of a given str\n",
    "def new_str(text, n):\n",
    "    result = \"\"\n",
    "    for i in range(n):\n",
    "        result = result + text\n",
    "    return result\n",
    "\n",
    "print(new_str(\"abc\",2))\n",
    "print(new_str(\"abc\",3))"
   ]
  }
 ],
 "metadata": {
  "kernelspec": {
   "display_name": ".venv",
   "language": "python",
   "name": "python3"
  },
  "language_info": {
   "codemirror_mode": {
    "name": "ipython",
    "version": 3
   },
   "file_extension": ".py",
   "mimetype": "text/x-python",
   "name": "python",
   "nbconvert_exporter": "python",
   "pygments_lexer": "ipython3",
   "version": "3.11.6"
  }
 },
 "nbformat": 4,
 "nbformat_minor": 2
}
