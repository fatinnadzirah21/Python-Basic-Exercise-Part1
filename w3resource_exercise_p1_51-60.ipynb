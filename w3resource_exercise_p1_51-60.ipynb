{
 "cells": [
  {
   "cell_type": "code",
   "execution_count": 1,
   "metadata": {},
   "outputs": [
    {
     "name": "stdout",
     "output_type": "stream",
     "text": [
      "3\n",
      "         29 function calls in 0.000 seconds\n",
      "\n",
      "   Ordered by: standard name\n",
      "\n",
      "   ncalls  tottime  percall  cumtime  percall filename:lineno(function)\n",
      "        1    0.000    0.000    0.000    0.000 3501611181.py:6(sum)\n",
      "        1    0.000    0.000    0.000    0.000 <string>:1(<module>)\n",
      "        1    0.000    0.000    0.000    0.000 iostream.py:203(schedule)\n",
      "        2    0.000    0.000    0.000    0.000 iostream.py:444(_is_master_process)\n",
      "        2    0.000    0.000    0.000    0.000 iostream.py:465(_schedule_flush)\n",
      "        2    0.000    0.000    0.000    0.000 iostream.py:535(write)\n",
      "        1    0.000    0.000    0.000    0.000 iostream.py:90(_event_pipe)\n",
      "        1    0.000    0.000    0.000    0.000 socket.py:613(send)\n",
      "        1    0.000    0.000    0.000    0.000 threading.py:1125(_wait_for_tstate_lock)\n",
      "        1    0.000    0.000    0.000    0.000 threading.py:1192(is_alive)\n",
      "        1    0.000    0.000    0.000    0.000 threading.py:575(is_set)\n",
      "        1    0.000    0.000    0.000    0.000 {built-in method builtins.exec}\n",
      "        2    0.000    0.000    0.000    0.000 {built-in method builtins.isinstance}\n",
      "        2    0.000    0.000    0.000    0.000 {built-in method builtins.len}\n",
      "        1    0.000    0.000    0.000    0.000 {built-in method builtins.print}\n",
      "        2    0.000    0.000    0.000    0.000 {built-in method nt.getpid}\n",
      "        2    0.000    0.000    0.000    0.000 {method '__exit__' of '_thread.RLock' objects}\n",
      "        1    0.000    0.000    0.000    0.000 {method 'acquire' of '_thread.lock' objects}\n",
      "        1    0.000    0.000    0.000    0.000 {method 'append' of 'collections.deque' objects}\n",
      "        1    0.000    0.000    0.000    0.000 {method 'disable' of '_lsprof.Profiler' objects}\n",
      "        2    0.000    0.000    0.000    0.000 {method 'write' of '_io.StringIO' objects}\n",
      "\n",
      "\n"
     ]
    }
   ],
   "source": [
    "# 51 determine the profiling of python program\n",
    "# profile - set of statistics that describes how often and for how long various parts of the program executed\n",
    "\n",
    "import cProfile\n",
    "def sum():\n",
    "   print(1 + 2)\n",
    "\n",
    "cProfile.run('sum()')"
   ]
  },
  {
   "cell_type": "code",
   "execution_count": 1,
   "metadata": {},
   "outputs": [
    {
     "name": "stderr",
     "output_type": "stream",
     "text": [
      "abc--efg--xyz\n"
     ]
    }
   ],
   "source": [
    "# 52 print to STDERR\n",
    "# '__future__' module to enable Python 3-style print function.\n",
    "# 'sys' module provides access to some variables used or maintained by the interpreter.\n",
    "\n",
    "from __future__ import print_function\n",
    "import sys\n",
    "\n",
    "# Define a custom 'eprint' function that prints to the standard error stream.\n",
    "def eprint(*args, **kwargs):\n",
    "    # Call the 'print' function with the provided arguments and keyword arguments.\n",
    "    # Use 'file=sys.stderr' to print to the standard error stream (stderr).\n",
    "    print(*args, file=sys.stderr, **kwargs)\n",
    "\n",
    "# Call the 'eprint' function with the specified arguments and separator.\n",
    "eprint(\"abc\", \"efg\", \"xyz\", sep=\"--\")\n"
   ]
  },
  {
   "cell_type": "code",
   "execution_count": 3,
   "metadata": {},
   "outputs": [
    {
     "name": "stdout",
     "output_type": "stream",
     "text": [
      "ALLUSERSPROFILE: C:\\ProgramData\n",
      "APPDATA: C:\\Users\\PC USER\\AppData\\Roaming\n",
      "APPLICATION_INSIGHTS_NO_DIAGNOSTIC_CHANNEL: 1\n",
      "ASL.LOG: Destination=file\n",
      "CHROME_CRASHPAD_PIPE_NAME: \\\\.\\pipe\\crashpad_4492_DIDURTJADXJJZNME\n",
      "COMMONPROGRAMFILES: C:\\Program Files\\Common Files\n",
      "COMMONPROGRAMFILES(X86): C:\\Program Files (x86)\\Common Files\n",
      "COMMONPROGRAMW6432: C:\\Program Files\\Common Files\n",
      "COMPUTERNAME: DESKTOP-LI6JIH3\n",
      "COMSPEC: C:\\WINDOWS\\system32\\cmd.exe\n",
      "DRIVERDATA: C:\\Windows\\System32\\Drivers\\DriverData\n",
      "EFC_6596: 1\n",
      "ELECTRON_RUN_AS_NODE: 1\n",
      "HOME: C:\\Users\\PC USER\n",
      "HOMEDRIVE: C:\n",
      "HOMEPATH: \\Users\\PC USER\n",
      "JPY_INTERRUPT_EVENT: 1720\n",
      "LOCALAPPDATA: C:\\Users\\PC USER\\AppData\\Local\n",
      "LOGONSERVER: \\\\DESKTOP-LI6JIH3\n",
      "NUMBER_OF_PROCESSORS: 16\n",
      "OCI_LIB64: C:\\instantclient_21_9\\\n",
      "ONEDRIVE: C:\\Users\\PC USER\\OneDrive\n",
      "ONEDRIVECONSUMER: C:\\Users\\PC USER\\OneDrive\n",
      "ORIGINAL_XDG_CURRENT_DESKTOP: undefined\n",
      "OS: Windows_NT\n",
      "PATH: c:\\Users\\PC USER\\Desktop\\AUTOMATION\\.venv\\Scripts;C:\\Program Files (x86)\\Common Files\\Oracle\\Java\\javapath;C:\\WINDOWS\\system32;C:\\WINDOWS;C:\\WINDOWS\\System32\\Wbem;C:\\WINDOWS\\System32\\WindowsPowerShell\\v1.0\\;C:\\WINDOWS\\System32\\OpenSSH\\;C:\\instantclient_21_9\\;C:\\Users\\PC USER\\AppData\\Roaming\\Microsoft\\Windows\\Start Menu\\Programs\\Python 3.11;C:\\Users\\PC USER\\AppData\\Local\\Programs\\Python\\Python311\\;C:\\Users\\PC USER\\AppData\\Local\\Programs\\Python\\Python311\\Scripts\\;C:\\Users\\PC USER\\AppData\\Local\\Programs\\Python\\Python311\\Scripts\\;C:\\Users\\PC USER\\AppData\\Roaming\\Microsoft\\Windows\\Start Menu\\Programs\\Python 3.11;C:\\Program Files (x86)\\Common Files\\Oracle\\Java\\javapath;C:\\Windows\\system32;C:\\Windows;C:\\Windows\\System32\\Wbem;C:\\Windows\\System32\\WindowsPowerShell\\v1.0\\;C:\\Windows\\System32\\OpenSSH\\;C:\\instantclient_21_9\\;C:\\Users\\PC USER\\AppData\\Local\\Programs\\Python\\Python311\\;C:\\Users\\PC USER\\AppData\\Local\\Microsoft\\WindowsApps;C:\\Users\\PC USER\\AppData\\Local\\Programs\\Microsoft VS Code\\bin;;%USERPROFILE%\\AppData\\Local\\Microsoft\\WindowsApps\n",
      "PATHEXT: .COM;.EXE;.BAT;.CMD;.VBS;.VBE;.JS;.JSE;.WSF;.WSH;.MSC\n",
      "PROCESSOR_ARCHITECTURE: AMD64\n",
      "PROCESSOR_IDENTIFIER: Intel64 Family 6 Model 154 Stepping 3, GenuineIntel\n",
      "PROCESSOR_LEVEL: 6\n",
      "PROCESSOR_REVISION: 9a03\n",
      "PROGRAMDATA: C:\\ProgramData\n",
      "PROGRAMFILES: C:\\Program Files\n",
      "PROGRAMFILES(X86): C:\\Program Files (x86)\n",
      "PROGRAMW6432: C:\\Program Files\n",
      "PROMPT: (.venv) $P$G\n",
      "PSMODULEPATH: C:\\Program Files\\WindowsPowerShell\\Modules;C:\\WINDOWS\\system32\\WindowsPowerShell\\v1.0\\Modules\n",
      "PUBLIC: C:\\Users\\Public\n",
      "PYDEVD_IPYTHON_COMPATIBLE_DEBUGGING: 1\n",
      "PYTHONIOENCODING: utf-8\n",
      "PYTHONUNBUFFERED: 1\n",
      "PYTHONUSERBASE: C:\\Users\\PC USER\\AppData\\Local\\Packages\\PythonSoftwareFoundation.Python.3.11_qbz5n2kfra8p0\\LocalCache\\local-packages\n",
      "SESSIONNAME: Console\n",
      "SYSTEMDRIVE: C:\n",
      "SYSTEMROOT: C:\\WINDOWS\n",
      "TEMP: C:\\Users\\PCUSER~1\\AppData\\Local\\Temp\n",
      "TMP: C:\\Users\\PCUSER~1\\AppData\\Local\\Temp\n",
      "USERDOMAIN: DESKTOP-LI6JIH3\n",
      "USERDOMAIN_ROAMINGPROFILE: DESKTOP-LI6JIH3\n",
      "USERNAME: PC USER\n",
      "USERPROFILE: C:\\Users\\PC USER\n",
      "VIRTUAL_ENV: c:\\Users\\PC USER\\Desktop\\AUTOMATION\\.venv\n",
      "VIRTUAL_ENV_PROMPT: (.venv) \n",
      "VSCODE_AMD_ENTRYPOINT: vs/workbench/api/node/extensionHostProcess\n",
      "VSCODE_CODE_CACHE_PATH: C:\\Users\\PC USER\\AppData\\Roaming\\Code\\CachedData\\0ee08df0cf4527e40edc9aa28f4b5bd38bbff2b2\n",
      "VSCODE_CRASH_REPORTER_PROCESS_TYPE: extensionHost\n",
      "VSCODE_CWD: C:\\Users\\PC USER\\AppData\\Local\\Programs\\Microsoft VS Code\n",
      "VSCODE_HANDLES_UNCAUGHT_ERRORS: true\n",
      "VSCODE_IPC_HOOK: \\\\.\\pipe\\6e5ad91716326726d225f9581083c94d-1.85.1-main-sock\n",
      "VSCODE_NLS_CONFIG: {\"locale\":\"en-us\",\"osLocale\":\"en-us\",\"availableLanguages\":{},\"_languagePackSupport\":true}\n",
      "VSCODE_PID: 4492\n",
      "WINDIR: C:\\WINDOWS\n",
      "ZES_ENABLE_SYSMAN: 1\n",
      "_OLD_VIRTUAL_PATH: C:\\Program Files (x86)\\Common Files\\Oracle\\Java\\javapath;C:\\WINDOWS\\system32;C:\\WINDOWS;C:\\WINDOWS\\System32\\Wbem;C:\\WINDOWS\\System32\\WindowsPowerShell\\v1.0\\;C:\\WINDOWS\\System32\\OpenSSH\\;C:\\instantclient_21_9\\;C:\\Users\\PC USER\\AppData\\Roaming\\Microsoft\\Windows\\Start Menu\\Programs\\Python 3.11;C:\\Users\\PC USER\\AppData\\Local\\Programs\\Python\\Python311\\;C:\\Users\\PC USER\\AppData\\Local\\Programs\\Python\\Python311\\Scripts\\;C:\\Users\\PC USER\\AppData\\Local\\Programs\\Python\\Python311\\Scripts\\;C:\\Users\\PC USER\\AppData\\Roaming\\Microsoft\\Windows\\Start Menu\\Programs\\Python 3.11;C:\\Program Files (x86)\\Common Files\\Oracle\\Java\\javapath;C:\\Windows\\system32;C:\\Windows;C:\\Windows\\System32\\Wbem;C:\\Windows\\System32\\WindowsPowerShell\\v1.0\\;C:\\Windows\\System32\\OpenSSH\\;C:\\instantclient_21_9\\;C:\\Users\\PC USER\\AppData\\Local\\Programs\\Python\\Python311\\;C:\\Users\\PC USER\\AppData\\Local\\Microsoft\\WindowsApps;C:\\Users\\PC USER\\AppData\\Local\\Programs\\Microsoft VS Code\\bin;;%USERPROFILE%\\AppData\\Local\\Microsoft\\WindowsApps\n",
      "_OLD_VIRTUAL_PROMPT: $P$G\n",
      "PYDEVD_USE_FRAME_EVAL: NO\n",
      "TERM: xterm-color\n",
      "CLICOLOR: 1\n",
      "FORCE_COLOR: 1\n",
      "CLICOLOR_FORCE: 1\n",
      "PAGER: cat\n",
      "GIT_PAGER: cat\n",
      "MPLBACKEND: module://matplotlib_inline.backend_inline\n"
     ]
    }
   ],
   "source": [
    "# 53 access environment variables\n",
    "\n",
    "import os\n",
    "\n",
    "for item, value in os.environ.items():\n",
    "    print('{}: {}'.format(item, value))"
   ]
  },
  {
   "cell_type": "code",
   "execution_count": 6,
   "metadata": {},
   "outputs": [
    {
     "name": "stdout",
     "output_type": "stream",
     "text": [
      "PC USER\n"
     ]
    }
   ],
   "source": [
    "# 54 get current username\n",
    "\n",
    "import getpass\n",
    "print(getpass.getuser())"
   ]
  },
  {
   "cell_type": "code",
   "execution_count": 7,
   "metadata": {},
   "outputs": [
    {
     "name": "stdout",
     "output_type": "stream",
     "text": [
      "192.168.0.138\n"
     ]
    }
   ],
   "source": [
    "# 55 find local IP addressses using Python's stdlib\n",
    "# 1. Use 'socket.gethostname()' to get the local hostname.\n",
    "# 2. Use 'socket.gethostbyname_ex()' to get a list of IP addresses associated with the hostname.\n",
    "# 3. Filter the list to exclude any IP addresses starting with \"127.\" (loopback addresses).\n",
    "# 4. Extract the first IP address (if available) from the filtered list.\n",
    "# 5. Print the obtained IP address to the console.\n",
    "\n",
    "import socket\n",
    "\n",
    "local_hostname = socket.gethostname()\n",
    "ip_addresses = socket.gethostbyname_ex(local_hostname)[2]\n",
    "filtered_ips = [ip for ip in ip_addresses if not ip.startswith(\"127.\")]\n",
    "first_ip = filtered_ips[:1]\n",
    "print(first_ip[0])\n"
   ]
  },
  {
   "cell_type": "code",
   "execution_count": null,
   "metadata": {},
   "outputs": [],
   "source": [
    "# 56 get the height and width of the console window\n",
    "# Use 'fcntl' and 'termios' to fetch terminal-related information, including size\n",
    "# This code queries the terminal's width (columns) and height (rows)\n",
    "# It uses the 'TIOCGWINSZ' ioctl command to get window size information\n",
    "\n",
    "import fcntl\n",
    "import termios\n",
    "import struct\n",
    "\n",
    "def terminal_size():\n",
    "    # 'th' (height), 'tw' (width), 'hp' (horizontal pixel size), 'wp' (vertical pixel size)\n",
    "    # file descriptor 0 (stdin)\n",
    "    th, tw, hp, wp = struct.unpack('HHHH', fcntl.ioctl(0, termios.TIOCGWINSZ, struct.pack('HHHH', 0, 0, 0, 0)))\n",
    "\n",
    "    return tw, th\n",
    "\n",
    "print('Number of columns and Rows: ', terminal_size())\n",
    "\n",
    "##### CANNOT RUN fcntl ON WINDOWS #####"
   ]
  },
  {
   "cell_type": "code",
   "execution_count": 10,
   "metadata": {},
   "outputs": [
    {
     "name": "stdout",
     "output_type": "stream",
     "text": [
      "Time to sum of 1 to 100000000 and required time to calculate is: (5000000050000000, 5.274166107177734)\n"
     ]
    }
   ],
   "source": [
    "# 57 get the execution time of a Python method\n",
    "\n",
    "# Import the 'time' module to work with time-related functions.\n",
    "import time\n",
    "\n",
    "# Define a function named 'sum_of_n_numbers' that calculates the sum of the first 'n' natural numbers.\n",
    "def sum_of_n_numbers(n):\n",
    "    # current time before calculation\n",
    "    start_time = time.time()\n",
    "\n",
    "    s = 0\n",
    "\n",
    "    for i in range(1, n + 1):\n",
    "        s = s + i\n",
    "\n",
    "    # current time after calculation\n",
    "    end_time = time.time()\n",
    "\n",
    "    return s, end_time - start_time\n",
    "\n",
    "n = 100000000\n",
    "\n",
    "print(\"Time to sum of 1 to\", n, \"and required time to calculate is:\", sum_of_n_numbers(n))"
   ]
  },
  {
   "cell_type": "code",
   "execution_count": 3,
   "metadata": {},
   "outputs": [
    {
     "name": "stdout",
     "output_type": "stream",
     "text": [
      "36\n"
     ]
    }
   ],
   "source": [
    "# 58 sum the first n positive integers\n",
    "\n",
    "n = int(input(\"Input an integer: \"))\n",
    "\n",
    "result = sum(range(n+1))\n",
    "\n",
    "print(result)"
   ]
  },
  {
   "cell_type": "code",
   "execution_count": 4,
   "metadata": {},
   "outputs": [
    {
     "name": "stdout",
     "output_type": "stream",
     "text": [
      "Height is: 170.2 cm\n"
     ]
    }
   ],
   "source": [
    "# 59 convert height (in feet and inches) to centimeters\n",
    "# 1 foot = 12 inches\n",
    "# 1 inches = 2.54 cm\n",
    "\n",
    "h_ft = int(input(\"Feet: \"))\n",
    "h_inch = int(input(\"Inches: \"))\n",
    "h_inch += h_ft * 12\n",
    "\n",
    "h_cm = round(h_inch * 2.54, 1)\n",
    "\n",
    "print(\"Height is:\", h_cm, \"cm\")"
   ]
  },
  {
   "cell_type": "code",
   "execution_count": 5,
   "metadata": {},
   "outputs": [
    {
     "name": "stdout",
     "output_type": "stream",
     "text": [
      "Input length of the triangle sides:\n",
      "The hypotenuse of the triangle is: 5.0\n"
     ]
    }
   ],
   "source": [
    "# 60 calculate the hypotenuse of a right angled triangle\n",
    "# hypotenuse = (x^2 + y^2)^1/2\n",
    "\n",
    "from math import sqrt\n",
    "\n",
    "print(\"Input length of the triangle sides:\")\n",
    "x = float(input(\"x: \"))\n",
    "y = float(input(\"y: \"))\n",
    "\n",
    "hyp = sqrt(x**2 + y**2)\n",
    "\n",
    "print(\"The hypotenuse of the triangle is:\", hyp)"
   ]
  }
 ],
 "metadata": {
  "kernelspec": {
   "display_name": ".venv",
   "language": "python",
   "name": "python3"
  },
  "language_info": {
   "codemirror_mode": {
    "name": "ipython",
    "version": 3
   },
   "file_extension": ".py",
   "mimetype": "text/x-python",
   "name": "python",
   "nbconvert_exporter": "python",
   "pygments_lexer": "ipython3",
   "version": "3.11.7"
  }
 },
 "nbformat": 4,
 "nbformat_minor": 2
}
