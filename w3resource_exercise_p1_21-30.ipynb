{
 "cells": [
  {
   "cell_type": "code",
   "execution_count": 3,
   "metadata": {},
   "outputs": [
    {
     "name": "stdout",
     "output_type": "stream",
     "text": [
      "4 is an even number.\n",
      "7 is an odd number.\n"
     ]
    }
   ],
   "source": [
    "# 21 determine whether a given number is off or even\n",
    "# print appropriate messages to the user\n",
    "# n = int(input(\"Enter a number: \"))\n",
    "\n",
    "def odd_even(n):\n",
    "    if n % 2 > 0:\n",
    "        print(\"%s is an odd number.\" % n)\n",
    "    else:\n",
    "        print(\"%s is an even number.\" % n)\n",
    "\n",
    "odd_even(4)\n",
    "odd_even(7)"
   ]
  },
  {
   "cell_type": "code",
   "execution_count": 7,
   "metadata": {},
   "outputs": [
    {
     "name": "stdout",
     "output_type": "stream",
     "text": [
      "2\n",
      "3\n"
     ]
    }
   ],
   "source": [
    "# 22 count the number 4 in a given list\n",
    "def list_count_4(nums):\n",
    "    count = 0\n",
    "    for num in nums:\n",
    "        if num == 4:\n",
    "            count += 1 # or count = count + 1\n",
    "    return count\n",
    "\n",
    "print(list_count_4([1, 4, 6, 7, 4]))\n",
    "print(list_count_4([1, 4, 6, 4, 7, 4]))"
   ]
  },
  {
   "cell_type": "code",
   "execution_count": 9,
   "metadata": {},
   "outputs": [
    {
     "name": "stdout",
     "output_type": "stream",
     "text": [
      "x\n",
      "xxxx\n",
      "hi\n",
      "hihihi\n"
     ]
    }
   ],
   "source": [
    "# 23 get n (non-negative int) copies of the first 2 characters of a given str\n",
    "# if len(str) < 2, return n copies of the whole str\n",
    "\n",
    "def given_str(text, n):\n",
    "    if len(text) >= 2:\n",
    "        new_text = text[:2]\n",
    "        print(new_text)\n",
    "    else:\n",
    "        new_text = text\n",
    "        print(new_text)\n",
    "\n",
    "    result = \"\"\n",
    "\n",
    "    for i in range(n):\n",
    "        result = result + new_text\n",
    "    return result\n",
    "\n",
    "print(given_str(\"x\", 4))\n",
    "print(given_str(\"hijkl\", 3))"
   ]
  },
  {
   "cell_type": "code",
   "execution_count": 11,
   "metadata": {},
   "outputs": [
    {
     "name": "stdout",
     "output_type": "stream",
     "text": [
      "False\n",
      "True\n"
     ]
    }
   ],
   "source": [
    "# 24 test whether a passed letter is a vowel or not\n",
    "def is_vowel(char):\n",
    "    all_vowels = 'aeiou'\n",
    "    return char in all_vowels\n",
    "\n",
    "print(is_vowel('c'))\n",
    "print(is_vowel('e'))"
   ]
  },
  {
   "cell_type": "code",
   "execution_count": 13,
   "metadata": {},
   "outputs": [
    {
     "name": "stdout",
     "output_type": "stream",
     "text": [
      "True\n",
      "False\n"
     ]
    }
   ],
   "source": [
    "# 25 check whether a specified value is contained within a group of values\n",
    "\n",
    "def check_num(group_num, n):\n",
    "    for num in group_num:\n",
    "        if n == num:\n",
    "            return True\n",
    "    return False\n",
    "\n",
    "print(check_num([1, 5, 8, 3], 3))\n",
    "print(check_num([5, 8, 3], -1))"
   ]
  },
  {
   "cell_type": "code",
   "execution_count": 18,
   "metadata": {},
   "outputs": [
    {
     "name": "stdout",
     "output_type": "stream",
     "text": [
      "##\n",
      "#####\n",
      "########\n",
      "###\n",
      "#\n"
     ]
    }
   ],
   "source": [
    "# 26 create a histogram from a given list of int\n",
    "# use any character\n",
    "def histogram(list_num):\n",
    "    for num in list_num:\n",
    "        output = \"\"\n",
    "        while num > 0:\n",
    "            output += \"#\"\n",
    "            num = num - 1\n",
    "        print(output)\n",
    "\n",
    "histogram([2, 5, 8, 3, 1])"
   ]
  },
  {
   "cell_type": "code",
   "execution_count": 20,
   "metadata": {},
   "outputs": [
    {
     "name": "stdout",
     "output_type": "stream",
     "text": [
      "25831\n",
      "25f31\n"
     ]
    }
   ],
   "source": [
    "# 27 concatenate all elements in a list into a str and return it\n",
    "def conc_elements(list_elements):\n",
    "    output = \"\"\n",
    "    for ele in list_elements:\n",
    "        output += str(ele)\n",
    "    print(output)\n",
    "\n",
    "conc_elements([2, 5, 8, 3, 1])\n",
    "conc_elements([2, 5, 'f', 3, 1])"
   ]
  },
  {
   "cell_type": "code",
   "execution_count": 27,
   "metadata": {},
   "outputs": [
    {
     "name": "stdout",
     "output_type": "stream",
     "text": [
      "2\n",
      "8\n",
      "237\n"
     ]
    }
   ],
   "source": [
    "# 28 print all EVEN num from a given list in the same order \n",
    "# stop printing after '237' in the sequence\n",
    "\n",
    "def find_even_num(given_list):\n",
    "    for x in given_list:\n",
    "        if x % 2 == 0:\n",
    "            print(x)\n",
    "        elif x == 237:\n",
    "            print(x)\n",
    "            break\n",
    "\n",
    "find_even_num([2, 5, 8, 3, 237, 1, 4, 2])"
   ]
  },
  {
   "cell_type": "code",
   "execution_count": 28,
   "metadata": {},
   "outputs": [
    {
     "name": "stdout",
     "output_type": "stream",
     "text": [
      "{'Black', 'White'}\n"
     ]
    }
   ],
   "source": [
    "# 29 print out all colours from colour_list_1 that are not present in colour_list_2\n",
    "colour_list_1 = set([\"White\", \"Black\", \"Red\"])\n",
    "colour_list_2 = set([\"Red\", \"Green\"])\n",
    "\n",
    "print(colour_list_1.difference(colour_list_2))"
   ]
  },
  {
   "cell_type": "code",
   "execution_count": 29,
   "metadata": {},
   "outputs": [
    {
     "name": "stdout",
     "output_type": "stream",
     "text": [
      "The area of the triangle is 400.0 cm.\n"
     ]
    }
   ],
   "source": [
    "# 30 input base and height of a triangle and compute its area\n",
    "base_tri = float(input(\"Enter the base of the triangle in cm: \"))\n",
    "height_tri = float(input(\"Enter the height of the triangle in cm: \"))\n",
    "area_tri = 1/2*base_tri*height_tri\n",
    "\n",
    "print(\"The area of the triangle is %s cm.\" % area_tri)"
   ]
  }
 ],
 "metadata": {
  "kernelspec": {
   "display_name": ".venv",
   "language": "python",
   "name": "python3"
  },
  "language_info": {
   "codemirror_mode": {
    "name": "ipython",
    "version": 3
   },
   "file_extension": ".py",
   "mimetype": "text/x-python",
   "name": "python",
   "nbconvert_exporter": "python",
   "pygments_lexer": "ipython3",
   "version": "3.11.6"
  }
 },
 "nbformat": 4,
 "nbformat_minor": 2
}
