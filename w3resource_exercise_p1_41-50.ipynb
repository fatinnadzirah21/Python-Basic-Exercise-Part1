{
 "cells": [
  {
   "cell_type": "code",
   "execution_count": 2,
   "metadata": {},
   "outputs": [
    {
     "name": "stdout",
     "output_type": "stream",
     "text": [
      "True\n",
      "False\n",
      "True\n",
      "False\n"
     ]
    }
   ],
   "source": [
    "# 41 check whether a file exist or not\n",
    "\n",
    "# use os.path.isfile()\n",
    "import os.path\n",
    "print(os.path.isfile('test.ipynb'))\n",
    "print(os.path.isfile('main.py'))\n",
    "\n",
    "# use os.path.exists()\n",
    "print(os.path.exists('test.ipynb'))\n",
    "print(os.path.exists('main.py'))"
   ]
  },
  {
   "cell_type": "code",
   "execution_count": 5,
   "metadata": {},
   "outputs": [
    {
     "name": "stdout",
     "output_type": "stream",
     "text": [
      "8\n",
      "64\n",
      "('64bit', 'WindowsPE')\n",
      "64bit\n"
     ]
    }
   ],
   "source": [
    "# 42 determine if a python shell is executing in 32bit or 64bit mode on OS\n",
    "\n",
    "# use struct module - have pack & unpack functions\n",
    "# struct.calcsize() is to determine size in bytes of the C int type \n",
    "# \"P\" is used to represent the C void ponter type\n",
    "# multiply by 8 to have the size in bits\n",
    "import struct\n",
    "print(struct.calcsize(\"P\"))\n",
    "print(struct.calcsize(\"P\")*8)\n",
    "\n",
    "# use platform module\n",
    "# platform.architecture() is to get bit architecture (32-bit or 64-bit)\n",
    "# [0] index is to retrieves the first element of the result\n",
    "import platform\n",
    "detail = platform.architecture()\n",
    "arc = platform.architecture()[0]\n",
    "print(detail)\n",
    "print(arc)"
   ]
  },
  {
   "cell_type": "code",
   "execution_count": 6,
   "metadata": {},
   "outputs": [
    {
     "name": "stdout",
     "output_type": "stream",
     "text": [
      "os.name                      nt\n",
      "sys.platform                 win32\n",
      "platform.system()            Windows\n",
      "sysconfig.get_platform()     win-amd64\n",
      "platform.machine()           AMD64\n",
      "platform.architecture()      ('64bit', 'WindowsPE')\n"
     ]
    }
   ],
   "source": [
    "# 43 get OS name, platform and release info\n",
    "\n",
    "import os\n",
    "import sys\n",
    "import platform\n",
    "import sysconfig\n",
    "print(\"os.name                     \", os.name)\n",
    "print(\"sys.platform                \", sys.platform)\n",
    "print(\"platform.system()           \", platform.system())\n",
    "print(\"sysconfig.get_platform()    \", sysconfig.get_platform())\n",
    "print(\"platform.machine()          \", platform.machine())\n",
    "print(\"platform.architecture()     \", platform.architecture())"
   ]
  },
  {
   "cell_type": "code",
   "execution_count": 7,
   "metadata": {},
   "outputs": [
    {
     "name": "stdout",
     "output_type": "stream",
     "text": [
      "['c:\\\\Users\\\\PC USER\\\\Desktop\\\\AUTOMATION\\\\.venv', 'c:\\\\Users\\\\PC USER\\\\Desktop\\\\AUTOMATION\\\\.venv\\\\Lib\\\\site-packages']\n"
     ]
    }
   ],
   "source": [
    "# 44 locate python site package\n",
    "\n",
    "import site\n",
    "print(site.getsitepackages())"
   ]
  },
  {
   "cell_type": "code",
   "execution_count": 8,
   "metadata": {},
   "outputs": [
    {
     "name": "stdout",
     "output_type": "stream",
     "text": [
      "1\n"
     ]
    }
   ],
   "source": [
    "# 45 call an external command\n",
    "\n",
    "import os\n",
    "print(os.system('ls -l'))"
   ]
  },
  {
   "cell_type": "code",
   "execution_count": 12,
   "metadata": {},
   "outputs": [
    {
     "name": "stdout",
     "output_type": "stream",
     "text": [
      "C:\\Users\\PC USER\\Desktop\\AUTOMATION\\play\\test.ipynb\n"
     ]
    }
   ],
   "source": [
    "# 46 retrieve path and name of a file\n",
    "\n",
    "import os\n",
    "print(os.path.realpath('test.ipynb'))"
   ]
  },
  {
   "cell_type": "code",
   "execution_count": 14,
   "metadata": {},
   "outputs": [
    {
     "name": "stdout",
     "output_type": "stream",
     "text": [
      "Number of CPUs used: 16\n"
     ]
    }
   ],
   "source": [
    "# 47 find out the number of CPUs used\n",
    "\n",
    "import multiprocessing\n",
    "cpu_count = multiprocessing.cpu_count()\n",
    "print(\"Number of CPUs used:\", cpu_count)"
   ]
  },
  {
   "cell_type": "code",
   "execution_count": 15,
   "metadata": {},
   "outputs": [
    {
     "name": "stdout",
     "output_type": "stream",
     "text": [
      "20.875\n",
      "20\n"
     ]
    }
   ],
   "source": [
    "# 48 parse str to float or int\n",
    "\n",
    "test_str = \"20.875\" \n",
    "print(float(test_str))\n",
    "print(int(float(test_str)))"
   ]
  },
  {
   "cell_type": "code",
   "execution_count": 18,
   "metadata": {},
   "outputs": [
    {
     "name": "stdout",
     "output_type": "stream",
     "text": [
      "{'brand': 'Ford', 'model': 'Mustang', 'year': 1964}\n"
     ]
    }
   ],
   "source": [
    "# 49 list all files in a directory\n",
    "\n",
    "thisdict = {\n",
    "  \"brand\": \"Ford\",\n",
    "  \"model\": \"Mustang\",\n",
    "  \"year\": 1964\n",
    "}\n",
    "\n",
    "print(thisdict)"
   ]
  },
  {
   "cell_type": "code",
   "execution_count": 17,
   "metadata": {},
   "outputs": [
    {
     "name": "stdout",
     "output_type": "stream",
     "text": [
      "**********"
     ]
    }
   ],
   "source": [
    "# 50 print without a newline or space \n",
    "\n",
    "for i in range(0, 10):\n",
    "    print('*', end=\"\")"
   ]
  }
 ],
 "metadata": {
  "kernelspec": {
   "display_name": ".venv",
   "language": "python",
   "name": "python3"
  },
  "language_info": {
   "codemirror_mode": {
    "name": "ipython",
    "version": 3
   },
   "file_extension": ".py",
   "mimetype": "text/x-python",
   "name": "python",
   "nbconvert_exporter": "python",
   "pygments_lexer": "ipython3",
   "version": "3.11.6"
  }
 },
 "nbformat": 4,
 "nbformat_minor": 2
}
